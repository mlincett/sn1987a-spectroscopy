{
 "cells": [
  {
   "cell_type": "code",
   "execution_count": null,
   "id": "cc8b8206",
   "metadata": {},
   "outputs": [],
   "source": [
    "import numpy as np\n",
    "from astropy.io import fits\n",
    "# from astropy.visualization import quantity_support\n",
    "from os.path import join as jp\n",
    "import matplotlib.pyplot as plt"
   ]
  },
  {
   "cell_type": "markdown",
   "id": "246daabe",
   "metadata": {},
   "source": [
    "## 1. Blackbody fitting"
   ]
  },
  {
   "cell_type": "code",
   "execution_count": null,
   "id": "0879cf41",
   "metadata": {},
   "outputs": [],
   "source": [
    "fits_path = '../fits'\n",
    "\n",
    "with fits.open(jp(fits_path, 'sn.mt')) as hdul:\n",
    "    hdul.info()\n",
    "    hdu = hdul[0]\n",
    "    header = hdu.header\n",
    "    data = hdu.data"
   ]
  },
  {
   "cell_type": "markdown",
   "id": "e5f2d850",
   "metadata": {},
   "source": [
    "Let's define a function to build the wavelength vector."
   ]
  },
  {
   "cell_type": "code",
   "execution_count": null,
   "id": "decebe31",
   "metadata": {},
   "outputs": [],
   "source": [
    "def get_wl(header):\n",
    "    n = header['NAXIS1']\n",
    "    start = header['CRVAL1']\n",
    "    delta = header['CDELT1']\n",
    "    wl = np.arange(start, start + n * delta, delta)\n",
    "    return wl\n",
    "\n",
    "wl = get_wl(header)"
   ]
  },
  {
   "cell_type": "markdown",
   "id": "adeb119e",
   "metadata": {},
   "source": [
    "We now define an auxiliary function to compute the blackbody spectrum. `astropy` provides the `BlackBody` class."
   ]
  },
  {
   "cell_type": "code",
   "execution_count": null,
   "id": "91b87138",
   "metadata": {},
   "outputs": [],
   "source": [
    "from astropy.modeling.models import BlackBody\n",
    "import astropy.units as u\n",
    "\n",
    "def Planck(wl, T, scale=1.0):\n",
    "    norm = scale * 1.0e-07 * (u.erg / (u.AA * u.s * u.sr * u.cm**2))\n",
    "    # this is the normalisation of the Planck spectrum we will work with!\n",
    "    bb = BlackBody(temperature=T * u.K, scale=norm)\n",
    "    flux = bb(wl * u.AA) # astropy must be aware of units!\n",
    "    return flux.value # but we will just work with numerical values"
   ]
  },
  {
   "cell_type": "markdown",
   "id": "411e05ce",
   "metadata": {},
   "source": [
    "And finally we try to superimpose the blackbody spectrum to the measured spectrum!"
   ]
  },
  {
   "cell_type": "code",
   "execution_count": null,
   "id": "e5cce5f5",
   "metadata": {},
   "outputs": [],
   "source": [
    "fig, ax = plt.subplots()\n",
    "ax.plot(wl, Planck(wl, 5500, 5), label='T=5500K, scale=5')\n",
    "ax.plot(wl, Planck(wl, 5500, 10), label='T=5500K, scale=10')\n",
    "ax.plot(wl, data[5], label='spectrum at day 5')\n",
    "# ax.set_ylabel() -> now we should know the units! (remember: fluxes are absolutely calibrated)\n",
    "ax.legend()"
   ]
  },
  {
   "cell_type": "markdown",
   "id": "4d66c06d",
   "metadata": {},
   "source": [
    "Now you have all you need to try and 'manually' fit Planck spectra to the measured SN 1987A spectra! Be careful as both the temperature and the absolute scale (luminosity) can be adjusted!\n",
    "\n",
    "Python has many tools for 'automatic' fitting as well (never `scipy.optimize`), you are free to use them if you feel confident enough (but I would not recommend it unless you have previous experience with minimizers)."
   ]
  },
  {
   "cell_type": "markdown",
   "id": "f4385b37",
   "metadata": {},
   "source": [
    "## 2. Measurement of line shifts"
   ]
  },
  {
   "cell_type": "markdown",
   "id": "9205a75c",
   "metadata": {},
   "source": [
    "We shall now try to measure the line displacement. For example, let's superimpose an hydrogen line to the measure spectrum."
   ]
  },
  {
   "cell_type": "code",
   "execution_count": null,
   "id": "a5e9667f",
   "metadata": {},
   "outputs": [],
   "source": [
    "# Depending on your environment, you may get an interactive plotting window enabling one of the following:\n",
    "# %matplotlib widget\n",
    "# %matlotlib qt\n",
    "\n",
    "day = 5\n",
    "\n",
    "H_alpha = 6562 # AA\n",
    "\n",
    "lines = [H_alpha,] # you can have more than one\n",
    "\n",
    "fig, ax = plt.subplots()\n",
    "ax.plot(wl, data[day-1])\n",
    "for line in lines:\n",
    "    ax.axvline(line, linestyle='--', color='tab:red')\n",
    "# ax.set_xlim(4500, 7000) # maybe zooming around the line of interest can help!"
   ]
  },
  {
   "cell_type": "markdown",
   "id": "7ddc613b",
   "metadata": {},
   "source": [
    "This looks like a neat P-Cygni profile! \n",
    "\n",
    "From here on, you are on your own. Feel free to experiment and use the method you prefer to carry out the required measurements!"
   ]
  }
 ],
 "metadata": {
  "interpreter": {
   "hash": "2094c958d54153ce66711cb234a3eb23659ee951c6cfa9b3c2d5a6c0ac3d3584"
  },
  "kernelspec": {
   "display_name": "Python 3.10.0",
   "language": "python",
   "name": "python3"
  },
  "language_info": {
   "codemirror_mode": {
    "name": "ipython",
    "version": 3
   },
   "file_extension": ".py",
   "mimetype": "text/x-python",
   "name": "python",
   "nbconvert_exporter": "python",
   "pygments_lexer": "ipython3",
   "version": "3.10.0"
  }
 },
 "nbformat": 4,
 "nbformat_minor": 5
}
