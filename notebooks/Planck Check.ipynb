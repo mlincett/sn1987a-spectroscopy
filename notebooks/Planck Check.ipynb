{
 "cells": [
  {
   "cell_type": "code",
   "execution_count": 1,
   "id": "dependent-hammer",
   "metadata": {},
   "outputs": [],
   "source": [
    "from astropy.io import fits\n",
    "from astropy.visualization import quantity_support\n",
    "from os.path import join as jp\n",
    "import matplotlib.pyplot as plt\n",
    "import numpy as np"
   ]
  },
  {
   "cell_type": "code",
   "execution_count": 2,
   "id": "confused-developer",
   "metadata": {},
   "outputs": [],
   "source": [
    "fits_path = '../fits'\n",
    "\n",
    "pla = dict()\n",
    "pla[2] = fits.open(jp(fits_path,'pla0002.mt'))\n",
    "pla[3] = fits.open(jp(fits_path,'pla0003.mt'))"
   ]
  },
  {
   "cell_type": "code",
   "execution_count": 5,
   "id": "turkish-oakland",
   "metadata": {},
   "outputs": [
    {
     "data": {
      "text/plain": [
       "SIMPLE  =                    T / Standard FITS format: NOST 100-2.0             \n",
       "BITPIX  =                  -32 / No. of bits per pixel                          \n",
       "NAXIS   =                    1 / No. of axes in image                           \n",
       "NAXIS1  =                 1461 / No. of pixels                                  \n",
       "EXTEND  =                    T / FITS extension may be present                  \n",
       "COMMENT NOST 100-2.0: Hanisch,R. et al. 2001, Astron. & Astrophys. 376, 559     \n",
       "                                                                                \n",
       "CRPIX1  =                   1. / Reference pixel                                \n",
       "CRVAL1  =                2200. / Coordinate at reference pixel                  \n",
       "CDELT1  =                   5. / Coord. incr. per pixel (original value)        \n",
       "CTYPE1  = '                '   / Units of coordinate                            \n",
       "BUNIT   = '                '   / Units of data values                           \n",
       "DATAMAX =       0.315994977951 / Maximum data value                             \n",
       "DATAMIN =                   0. / Minimum data value                             \n",
       "                                                                                \n",
       "ORIGIN  = 'ESO-MIDAS'          / Written by MIDAS                               \n",
       "DATE    = '2021-08-03T17:04:37' /  [UTC] Date of writing                        \n",
       "FILENAME= 'pla0003.bdf'        / Original file base-name                        \n",
       "MIDASFTP= 'IMAGE   '           / MIDAS File Type                                \n",
       "                                                                                \n",
       "OBJECT  = 'PLANCK 5-15000'     / MIDAS desc.: IDENT(1)                          \n",
       "RA      =                   0. / MIDAS desc.: O_POS(1)                          \n",
       "DEC     =                   0. / MIDAS desc.: O_POS(2)                          \n",
       "DATE-OBS= '01/01/00'           / MIDAS desc.: O_TIME(1)                         \n",
       "TM-START=                   0. / MIDAS desc.: O_TIME(5)                         \n",
       "EXPTIME =                   0. / MIDAS desc.: O_TIME(7)                         \n",
       "HISTORY EXTRACT/IMAG s3  = planck[<,@3:>,@3]                                   \\\n",
       "HISTORY  \\                                                                      \n",
       "HISTORY       Converted from: pla0003.fits                                     \\\n",
       "HISTORY                                                                         \n",
       "                                                                                \n",
       "HISTORY  ESO-DESCRIPTORS START   ................                               \n",
       "HISTORY  'LHCUTS','R*4',1,4,'5E14.7'                                            \n",
       "HISTORY   0.0000000E+00 0.0000000E+00 0.0000000E+00 3.1599498E-01               \n",
       "HISTORY                                                                         \n",
       "HISTORY  'IHAPUSER','R*4',1,5,'5E14.7'                                          \n",
       "HISTORY   0.0000000E+00 0.0000000E+00 0.0000000E+00 0.0000000E+00 0.0000000E+00 \n",
       "HISTORY                                                                         \n",
       "HISTORY  'O_COM','C*1',1,105,'70A1'                                             \n",
       "HISTORY  PLANCK-KURVEN IN 1E7 ERG S**-1 CM**-2 A**-1 \\nS1: 5000; S2: 5500;ETC.; \n",
       "HISTORY   S11: 10000; S12: 11000 \\nS16: 15000\\n                                 \n",
       "HISTORY                                                                         \n",
       "HISTORY  ESO-DESCRIPTORS END     ................                               \n",
       "                                                                                "
      ]
     },
     "execution_count": 5,
     "metadata": {},
     "output_type": "execute_result"
    }
   ],
   "source": [
    "hdr = pla[3][0].header\n",
    "hdr"
   ]
  },
  {
   "cell_type": "code",
   "execution_count": 6,
   "id": "damaged-writer",
   "metadata": {},
   "outputs": [],
   "source": [
    "n    = hdr['NAXIS1']\n",
    "lo   = hdr['CRVAL1']\n",
    "step = hdr['CDELT1']\n",
    "lmb = np.arange(lo, lo + n * step, step)"
   ]
  },
  {
   "cell_type": "code",
   "execution_count": 54,
   "id": "combined-presentation",
   "metadata": {},
   "outputs": [
    {
     "data": {
      "text/plain": [
       "<matplotlib.legend.Legend at 0x7f666d7f8250>"
      ]
     },
     "execution_count": 54,
     "metadata": {},
     "output_type": "execute_result"
    },
    {
     "data": {
      "image/png": "[encoded data removed]",
      "text/plain": [
       "<Figure size 432x288 with 1 Axes>"
      ]
     },
     "metadata": {
      "needs_background": "light"
     },
     "output_type": "display_data"
    }
   ],
   "source": [
    "plt.plot(lmb, pla[2][0].data, label='2') # 5500\n",
    "plt.plot(lmb, pla[3][0].data, label='3') # 6000\n",
    "plt.legend()"
   ]
  },
  {
   "cell_type": "code",
   "execution_count": 56,
   "id": "mediterranean-title",
   "metadata": {},
   "outputs": [],
   "source": [
    "from astropy.modeling.models import BlackBody as Planck\n",
    "from astropy import units as u\n",
    "from astropy.constants import b_wien"
   ]
  },
  {
   "cell_type": "code",
   "execution_count": 65,
   "id": "careful-small",
   "metadata": {},
   "outputs": [],
   "source": [
    "#T = (b_wien / (6000 * u.Angstrom)).to(u.K)\n",
    "T = 5500 * u.K"
   ]
  },
  {
   "cell_type": "code",
   "execution_count": 66,
   "id": "f430ae81",
   "metadata": {},
   "outputs": [],
   "source": [
    "planck5500 = Planck(T)"
   ]
  },
  {
   "cell_type": "code",
   "execution_count": 68,
   "id": "195c1d26",
   "metadata": {},
   "outputs": [],
   "source": [
    "pl = planck5500(lmb * u.AA).to(u.erg / (u.Angstrom * u.s * u.sr * u.cm**2), equivalencies=u.spectral_density(lmb * u.Angstrom))"
   ]
  },
  {
   "cell_type": "code",
   "execution_count": 70,
   "id": "877c9324",
   "metadata": {},
   "outputs": [
    {
     "data": {
      "text/plain": [
       "[<matplotlib.lines.Line2D at 0x7f666d4c5d60>]"
      ]
     },
     "execution_count": 70,
     "metadata": {},
     "output_type": "execute_result"
    },
    {
     "data": {
      "image/png": "[encoded data removed]",
      "text/plain": [
       "<Figure size 432x288 with 1 Axes>"
      ]
     },
     "metadata": {
      "needs_background": "light"
     },
     "output_type": "display_data"
    }
   ],
   "source": [
    "plt.plot(lmb, pla[2][0].data)\n",
    "plt.plot(lmb, pl.value/1e7)"
   ]
  },
  {
   "cell_type": "code",
   "execution_count": 50,
   "id": "3907d199",
   "metadata": {},
   "outputs": [],
   "source": [
    "lm = planck6000.lambda_max"
   ]
  },
  {
   "cell_type": "code",
   "execution_count": 52,
   "id": "5bac8d19",
   "metadata": {},
   "outputs": [
    {
     "data": {
      "text/latex": [
       "$6000 \\; \\mathrm{\\mathring{A}}$"
      ],
      "text/plain": [
       "<Quantity 6000. Angstrom>"
      ]
     },
     "execution_count": 52,
     "metadata": {},
     "output_type": "execute_result"
    }
   ],
   "source": [
    "lm.to(u.Angstrom)"
   ]
  },
  {
   "cell_type": "code",
   "execution_count": null,
   "id": "d978bec4",
   "metadata": {},
   "outputs": [],
   "source": []
  }
 ],
 "metadata": {
  "kernelspec": {
   "display_name": "Python 3 (ipykernel)",
   "language": "python",
   "name": "python3"
  },
  "language_info": {
   "codemirror_mode": {
    "name": "ipython",
    "version": 3
   },
   "file_extension": ".py",
   "mimetype": "text/x-python",
   "name": "python",
   "nbconvert_exporter": "python",
   "pygments_lexer": "ipython3",
   "version": "3.9.5"
  }
 },
 "nbformat": 4,
 "nbformat_minor": 5
}
