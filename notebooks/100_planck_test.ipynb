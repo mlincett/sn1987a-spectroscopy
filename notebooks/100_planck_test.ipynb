{
 "cells": [
  {
   "cell_type": "code",
   "execution_count": 1,
   "id": "dependent-hammer",
   "metadata": {},
   "outputs": [],
   "source": [
    "from astropy.io import fits\n",
    "from astropy.visualization import quantity_support\n",
    "from os.path import join as jp\n",
    "import matplotlib.pyplot as plt\n",
    "import numpy as np"
   ]
  },
  {
   "cell_type": "code",
   "execution_count": 2,
   "id": "confused-developer",
   "metadata": {},
   "outputs": [],
   "source": [
    "fits_path = '../fits'\n",
    "\n",
    "pla = dict()\n",
    "pla[2] = fits.open(jp(fits_path,'pla0002.mt'))\n",
    "pla[3] = fits.open(jp(fits_path,'pla0003.mt'))"
   ]
  },
  {
   "cell_type": "code",
   "execution_count": 3,
   "id": "770af7ba",
   "metadata": {},
   "outputs": [
    {
     "data": {
      "text/plain": [
       "[<astropy.io.fits.hdu.image.PrimaryHDU object at 0x7f08c479f9a0>]"
      ]
     },
     "execution_count": 3,
     "metadata": {},
     "output_type": "execute_result"
    }
   ],
   "source": [
    "pla[2]"
   ]
  },
  {
   "cell_type": "code",
   "execution_count": 4,
   "id": "e6bb3ce7",
   "metadata": {},
   "outputs": [
    {
     "name": "stdout",
     "output_type": "stream",
     "text": [
      "Filename: ../fits/pla0002.mt\n",
      "No.    Name      Ver    Type      Cards   Dimensions   Format\n",
      "  0  PRIMARY       1 PrimaryHDU      97   (1461,)   float32   \n"
     ]
    }
   ],
   "source": [
    "pla[2].info()"
   ]
  },
  {
   "cell_type": "code",
   "execution_count": 5,
   "id": "148af05a",
   "metadata": {},
   "outputs": [
    {
     "data": {
      "text/plain": [
       "SIMPLE  =                    T / Standard FITS format: NOST 100-2.0             \n",
       "BITPIX  =                  -32 / No. of bits per pixel                          \n",
       "NAXIS   =                    1 / No. of axes in image                           \n",
       "NAXIS1  =                 1461 / No. of pixels                                  \n",
       "EXTEND  =                    T / FITS extension may be present                  \n",
       "COMMENT NOST 100-2.0: Hanisch,R. et al. 2001, Astron. & Astrophys. 376, 559     \n",
       "                                                                                \n",
       "CRPIX1  =                   1. / Reference pixel                                \n",
       "CRVAL1  =                2200. / Coordinate at reference pixel                  \n",
       "CDELT1  =                   5. / Coord. incr. per pixel (original value)        \n",
       "CTYPE1  = '                '   / Units of coordinate                            \n",
       "BUNIT   = '                '   / Units of data values                           \n",
       "DATAMAX =       0.204900175333 / Maximum data value                             \n",
       "DATAMIN =                   0. / Minimum data value                             \n",
       "                                                                                \n",
       "ORIGIN  = 'ESO-MIDAS'          / Written by MIDAS                               \n",
       "DATE    = '2021-08-03T17:04:37' /  [UTC] Date of writing                        \n",
       "FILENAME= 'pla0002.bdf'        / Original file base-name                        \n",
       "MIDASFTP= 'IMAGE   '           / MIDAS File Type                                \n",
       "                                                                                \n",
       "OBJECT  = 'PLANCK 5-15000'     / MIDAS desc.: IDENT(1)                          \n",
       "RA      =                   0. / MIDAS desc.: O_POS(1)                          \n",
       "DEC     =                   0. / MIDAS desc.: O_POS(2)                          \n",
       "DATE-OBS= '01/01/00'           / MIDAS desc.: O_TIME(1)                         \n",
       "TM-START=                   0. / MIDAS desc.: O_TIME(5)                         \n",
       "EXPTIME =                   0. / MIDAS desc.: O_TIME(7)                         \n",
       "HISTORY EXTRACT/IMAG s2  = planck[<,@2:>,@2]                                   \\\n",
       "HISTORY  \\                                                                      \n",
       "HISTORY       Converted from: pla0002.fits                                     \\\n",
       "HISTORY                                                                         \n",
       "                                                                                \n",
       "HISTORY  ESO-DESCRIPTORS START   ................                               \n",
       "HISTORY  'LHCUTS','R*4',1,4,'5E14.7'                                            \n",
       "HISTORY   0.0000000E+00 0.0000000E+00 0.0000000E+00 2.0490018E-01               \n",
       "HISTORY                                                                         \n",
       "HISTORY  'IHAPUSER','R*4',1,5,'5E14.7'                                          \n",
       "HISTORY   0.0000000E+00 0.0000000E+00 0.0000000E+00 0.0000000E+00 0.0000000E+00 \n",
       "HISTORY                                                                         \n",
       "HISTORY  'O_COM','C*1',1,105,'70A1'                                             \n",
       "HISTORY  PLANCK-KURVEN IN 1E7 ERG S**-1 CM**-2 A**-1 \\nS1: 5000; S2: 5500;ETC.; \n",
       "HISTORY   S11: 10000; S12: 11000 \\nS16: 15000\\n                                 \n",
       "HISTORY                                                                         \n",
       "HISTORY  'HIST_BINS','R*4',1,4,'5E14.7'                                         \n",
       "HISTORY   2.5600000E+02 8.0353010E-04 0.0000000E+00 2.0490018E-01               \n",
       "HISTORY                                                                         \n",
       "HISTORY  'HISTOGRAM','I*4',1,256,'7I10'                                         \n",
       "HISTORY         260         0         0         0         0         0         0 \n",
       "HISTORY           0         0         0         0         0         0         0 \n",
       "HISTORY           0         0         0         0         0         0         0 \n",
       "HISTORY           0         0         0         0         0         0         0 \n",
       "HISTORY           0         0         0         0         0         0         0 \n",
       "HISTORY           0         0         0         0         0         0         0 \n",
       "HISTORY           0         0         0         0         0         0         0 \n",
       "HISTORY           0         0         0         0         0         0         0 \n",
       "HISTORY           0         0         0         0         0         0         0 \n",
       "HISTORY           0         0         0         0         0         0         0 \n",
       "HISTORY           0         0         0         0         0         0         0 \n",
       "HISTORY           0         0         0         0         0         0         0 \n",
       "HISTORY           0         0         0         0         0         0         0 \n",
       "HISTORY           0         0         0         0         0         0         0 \n",
       "HISTORY           0         0         0         0         0         0         0 \n",
       "HISTORY           0         0         0         1         1         2         1 \n",
       "HISTORY           2         1         2         1         1         2         1 \n",
       "HISTORY           2         1         2         1         2         1         2 \n",
       "HISTORY           1         2         1         2         2         1         2 \n",
       "HISTORY           1         2         1         2         2         1         2 \n",
       "HISTORY           1         2         5         9        10         9         9 \n",
       "HISTORY           9         9         8         9         8         8         9 \n",
       "HISTORY           8         8         8         8         8         8         8 \n",
       "HISTORY           8         8         8         7         7         8         8 \n",
       "HISTORY           8         7         8         8         7         7         8 \n",
       "HISTORY           7         8         7         8         7         8         7 \n",
       "HISTORY           7         8         7         8         8         8         7 \n",
       "HISTORY           7         8         7         8         8         7         8 \n",
       "HISTORY           7         8         8         7         9         7         8 \n",
       "HISTORY           8         7         9         7         9         7         9 \n",
       "HISTORY           8         8         9         8         8         9         8 \n",
       "HISTORY           9         9         9         9         8         9         9 \n",
       "HISTORY           9         9        10        10         9        10        10 \n",
       "HISTORY          10        10        10        11        11        11        11 \n",
       "HISTORY          12        11        13        12        13        13        14 \n",
       "HISTORY          15        15        15        18        18        19        24 \n",
       "HISTORY          26        35        82         1                               \n",
       "HISTORY                                                                         \n",
       "HISTORY  'STATISTIC','R*4',1,11,'5E14.7'                                        \n",
       "HISTORY   0.0000000E+00 2.0490018E-01 1.3601843E-01 6.9380783E-02 4.1133421E-03 \n",
       "HISTORY   7.4318377E-04 1.9872292E+02 1.6954485E-01 2.0369488E-01 2.5600000E+02 \n",
       "HISTORY   8.0353010E-04                                                         \n",
       "HISTORY                                                                         \n",
       "HISTORY  'WINDOW_FROM','I*4',1,1,'7I10'                                         \n",
       "HISTORY           1                                                             \n",
       "HISTORY                                                                         \n",
       "HISTORY  'WINDOW_TO','I*4',1,1,'7I10'                                           \n",
       "HISTORY        1461                                                             \n",
       "HISTORY                                                                         \n",
       "HISTORY  ESO-DESCRIPTORS END     ................                               \n",
       "                                                                                "
      ]
     },
     "execution_count": 5,
     "metadata": {},
     "output_type": "execute_result"
    }
   ],
   "source": [
    "hdr = pla[2][0].header\n",
    "hdr"
   ]
  },
  {
   "cell_type": "code",
   "execution_count": 6,
   "id": "damaged-writer",
   "metadata": {},
   "outputs": [],
   "source": [
    "n    = hdr['NAXIS1']\n",
    "lo   = hdr['CRVAL1']\n",
    "step = hdr['CDELT1']\n",
    "lmb = np.arange(lo, lo + n * step, step)"
   ]
  },
  {
   "cell_type": "code",
   "execution_count": 7,
   "id": "combined-presentation",
   "metadata": {},
   "outputs": [
    {
     "data": {
      "text/plain": [
       "<matplotlib.legend.Legend at 0x7f0834b30dc0>"
      ]
     },
     "execution_count": 7,
     "metadata": {},
     "output_type": "execute_result"
    },
    {
     "data": {
      "image/png": "[encoded data removed]",
      "text/plain": [
       "<Figure size 432x288 with 1 Axes>"
      ]
     },
     "metadata": {
      "needs_background": "light"
     },
     "output_type": "display_data"
    }
   ],
   "source": [
    "plt.plot(lmb, pla[2][0].data, label='2') # 5500\n",
    "plt.plot(lmb, pla[3][0].data, label='3') # 6000\n",
    "plt.legend()"
   ]
  },
  {
   "cell_type": "code",
   "execution_count": 8,
   "id": "mediterranean-title",
   "metadata": {},
   "outputs": [],
   "source": [
    "from astropy.modeling.models import BlackBody\n",
    "from astropy import units as u\n",
    "from astropy.constants import b_wien"
   ]
  },
  {
   "cell_type": "code",
   "execution_count": 9,
   "id": "careful-small",
   "metadata": {},
   "outputs": [],
   "source": [
    "def Planck(wl, T):\n",
    "    bb = BlackBody(5500 * u.K, scale=1.0e-07 * (u.erg / (u.AA * u.s * u.sr * u.cm**2)))\n",
    "    return bb(wl * u.AA)"
   ]
  },
  {
   "cell_type": "code",
   "execution_count": 10,
   "id": "e012ddf1",
   "metadata": {},
   "outputs": [
    {
     "data": {
      "text/plain": [
       "[<matplotlib.lines.Line2D at 0x7f0833036260>]"
      ]
     },
     "execution_count": 10,
     "metadata": {},
     "output_type": "execute_result"
    },
    {
     "data": {
      "image/png": "[encoded data removed]",
      "text/plain": [
       "<Figure size 432x288 with 1 Axes>"
      ]
     },
     "metadata": {
      "needs_background": "light"
     },
     "output_type": "display_data"
    }
   ],
   "source": [
    "plt.plot(lmb, Planck(lmb, 5500))\n",
    "plt.plot(lmb, pla[2][0].data)"
   ]
  },
  {
   "cell_type": "code",
   "execution_count": 11,
   "id": "f430ae81",
   "metadata": {},
   "outputs": [
    {
     "data": {
      "image/png": "[encoded data removed]",
      "text/plain": [
       "<Figure size 432x288 with 1 Axes>"
      ]
     },
     "metadata": {
      "needs_background": "light"
     },
     "output_type": "display_data"
    }
   ],
   "source": [
    "#bb = BlackBody(temperature=5500*u.K)\n",
    "bb = BlackBody(5500 * u.K, scale=1.0e-07 * (u.erg / (u.AA * u.s * u.sr * u.cm**2)))\n",
    "wav = np.arange(1000, 9000) * u.AA\n",
    "flux = bb(wav)\n",
    "\n",
    "with quantity_support():\n",
    "    plt.figure()\n",
    "    plt.plot(wav, flux)\n",
    "    plt.axvline(bb.lambda_max.to(u.AA, equivalencies=u.spectral()).value, ls='--')\n",
    "    plt.show()\n"
   ]
  }
 ],
 "metadata": {
  "interpreter": {
   "hash": "2094c958d54153ce66711cb234a3eb23659ee951c6cfa9b3c2d5a6c0ac3d3584"
  },
  "kernelspec": {
   "display_name": "Python 3.10.0",
   "language": "python",
   "name": "python3"
  },
  "language_info": {
   "codemirror_mode": {
    "name": "ipython",
    "version": 3
   },
   "file_extension": ".py",
   "mimetype": "text/x-python",
   "name": "python",
   "nbconvert_exporter": "python",
   "pygments_lexer": "ipython3",
   "version": "3.10.0"
  }
 },
 "nbformat": 4,
 "nbformat_minor": 5
}
