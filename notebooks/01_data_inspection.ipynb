{
 "cells": [
  {
   "cell_type": "markdown",
   "id": "323104d9",
   "metadata": {},
   "source": [
    "## F-Praktikum: Spectroscopy of supernova SN 1987A v2.0"
   ]
  },
  {
   "cell_type": "code",
   "execution_count": null,
   "id": "cc8b8206",
   "metadata": {},
   "outputs": [],
   "source": [
    "import numpy as np\n",
    "\n",
    "from os.path import join as jp\n",
    "import matplotlib.pyplot as plt\n",
    "\n",
    "from astropy.io import fits"
   ]
  },
  {
   "cell_type": "markdown",
   "id": "6550e922",
   "metadata": {},
   "source": [
    "First of all, let us inspect the data.\n",
    "\n",
    "Data have been exported from the native MIDAS format to the portable FITS (Flexible Image Transport System) format, that can be read using `astropy`."
   ]
  },
  {
   "cell_type": "code",
   "execution_count": null,
   "id": "0879cf41",
   "metadata": {},
   "outputs": [],
   "source": [
    "data_path = '../fits'\n",
    "\n",
    "with fits.open(jp(data_path, 'sn.mt')) as hdul:\n",
    "    # the fits interface returns a HDU (Header Data Unit) list\n",
    "    hdul.info()"
   ]
  },
  {
   "cell_type": "markdown",
   "id": "b3babd0b",
   "metadata": {},
   "source": [
    "We will access the first and only HDU in the file, consisting of an header and a data array."
   ]
  },
  {
   "cell_type": "code",
   "execution_count": null,
   "id": "91b87138",
   "metadata": {},
   "outputs": [],
   "source": [
    "with fits.open(jp(data_path, 'sn.mt')) as hdul:\n",
    "    header, data = hdul[0].header, hdul[0].data"
   ]
  },
  {
   "cell_type": "markdown",
   "id": "2bd79aa8",
   "metadata": {},
   "source": [
    "Let us inspect the header..."
   ]
  },
  {
   "cell_type": "code",
   "execution_count": null,
   "id": "10be74f9",
   "metadata": {},
   "outputs": [],
   "source": [
    "header"
   ]
  },
  {
   "cell_type": "markdown",
   "id": "060f931b",
   "metadata": {},
   "source": [
    "The interpretation of the FITS format is not straightforward. FITS is designed to transfer images, so data points are indexed by pixels. `NAXIS = 2` tells us the data set is bi-dimensional, having size `NAXIS1 = 1201` x `NAXIS2 = 110`. The first dimension is the wavelength (in Angstrom) and the second dimension is the day at which the spectrum was taken. Let us verify how this is consistent with the shape of the data set."
   ]
  },
  {
   "cell_type": "code",
   "execution_count": null,
   "id": "0bb4cced",
   "metadata": {},
   "outputs": [],
   "source": [
    "data.shape"
   ]
  },
  {
   "cell_type": "markdown",
   "id": "4d71c5b0",
   "metadata": {},
   "source": [
    "A bit counterintuitive: the first dimension in the FITS logic is actually the second dimension in the usual array logic."
   ]
  },
  {
   "cell_type": "markdown",
   "id": "20a9269c",
   "metadata": {},
   "source": [
    "We want now to build an array of wavelength values consistent with the definition of the first axis of the data. `CRVAL1` tell us wavelength value of the first pixel, `CDELT1` tells us the difference in wavelength between two consecutive pixels. We want to build an array of `NAXIS1` values, starting from `CRVAL1` and with a step of `CDELT1`:"
   ]
  },
  {
   "cell_type": "code",
   "execution_count": null,
   "id": "a37b232a",
   "metadata": {},
   "outputs": [],
   "source": [
    "n = header['NAXIS1']\n",
    "start = header['CRVAL1']\n",
    "delta = header['CDELT1']\n",
    "# using `np.arange` to create an array of evenly spaced values\n",
    "wl = np.arange(start, start + n * delta, delta)\n",
    "# check if the array has the correct size\n",
    "print(wl.shape)"
   ]
  },
  {
   "cell_type": "markdown",
   "id": "f397c031",
   "metadata": {},
   "source": [
    "Now we plot some spectra..."
   ]
  },
  {
   "cell_type": "code",
   "execution_count": null,
   "id": "41657593",
   "metadata": {},
   "outputs": [],
   "source": [
    "days = [1, 5, 10, 20]\n",
    "\n",
    "fig, ax = plt.subplots()\n",
    "\n",
    "for day in days:\n",
    "    index = day - 1 # arrays count from zero but days from one\n",
    "    ax.plot(wl, data[index], label=f'day {day}')\n",
    "\n",
    "ax.legend()\n",
    "ax.set_xlabel(\"wavelength [AA]\")\n",
    "ax.set_ylabel(\"flux\") # we don't know the units but we should find out \n",
    "\n",
    "# fig.savefig('spectra.png')"
   ]
  }
 ],
 "metadata": {
  "interpreter": {
   "hash": "2094c958d54153ce66711cb234a3eb23659ee951c6cfa9b3c2d5a6c0ac3d3584"
  },
  "kernelspec": {
   "display_name": "Python 3.10.0",
   "language": "python",
   "name": "python3"
  },
  "language_info": {
   "codemirror_mode": {
    "name": "ipython",
    "version": 3
   },
   "file_extension": ".py",
   "mimetype": "text/x-python",
   "name": "python",
   "nbconvert_exporter": "python",
   "pygments_lexer": "ipython3",
   "version": "3.10.0"
  }
 },
 "nbformat": 4,
 "nbformat_minor": 5
}
