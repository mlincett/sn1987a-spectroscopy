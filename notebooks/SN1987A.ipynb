{
 "cells": [
  {
   "cell_type": "code",
   "execution_count": 1,
   "id": "dependent-hammer",
   "metadata": {},
   "outputs": [],
   "source": [
    "from astropy.io import fits\n",
    "from astropy.visualization import quantity_support\n",
    "from os.path import join as jp\n",
    "import matplotlib.pyplot as plt\n",
    "import numpy as np"
   ]
  },
  {
   "cell_type": "code",
   "execution_count": 2,
   "id": "confused-developer",
   "metadata": {},
   "outputs": [],
   "source": [
    "fits_path = '../fits'\n",
    "\n",
    "file = jp(fits_path, 'sn.fits')\n",
    "\n",
    "pla = dict()"
   ]
  },
  {
   "cell_type": "code",
   "execution_count": 3,
   "id": "turkish-oakland",
   "metadata": {},
   "outputs": [],
   "source": [
    "pla[2] = fits.open(jp(fits_path,'pla0002.mt'))\n",
    "pla[3] = fits.open(jp(fits_path,'pla0003.mt'))"
   ]
  },
  {
   "cell_type": "code",
   "execution_count": 4,
   "id": "damaged-writer",
   "metadata": {},
   "outputs": [],
   "source": [
    "sn = fits.open(jp(fits_path,'sn.mt'))"
   ]
  },
  {
   "cell_type": "code",
   "execution_count": 5,
   "id": "combined-presentation",
   "metadata": {},
   "outputs": [
    {
     "data": {
      "text/plain": [
       "SIMPLE  =                    T / Standard FITS format: NOST 100-2.0             \n",
       "BITPIX  =                  -32 / No. of bits per pixel                          \n",
       "NAXIS   =                    1 / No. of axes in image                           \n",
       "NAXIS1  =                 1461 / No. of pixels                                  \n",
       "EXTEND  =                    T / FITS extension may be present                  \n",
       "COMMENT NOST 100-2.0: Hanisch,R. et al. 2001, Astron. & Astrophys. 376, 559     \n",
       "                                                                                \n",
       "CRPIX1  =                   1. / Reference pixel                                \n",
       "CRVAL1  =                2200. / Coordinate at reference pixel                  \n",
       "CDELT1  =                   5. / Coord. incr. per pixel (original value)        \n",
       "CTYPE1  = '                '   / Units of coordinate                            \n",
       "BUNIT   = '                '   / Units of data values                           \n",
       "DATAMAX =       0.204900175333 / Maximum data value                             \n",
       "DATAMIN =                   0. / Minimum data value                             \n",
       "                                                                                \n",
       "ORIGIN  = 'ESO-MIDAS'          / Written by MIDAS                               \n",
       "DATE    = '2021-08-03T17:04:37' /  [UTC] Date of writing                        \n",
       "FILENAME= 'pla0002.bdf'        / Original file base-name                        \n",
       "MIDASFTP= 'IMAGE   '           / MIDAS File Type                                \n",
       "                                                                                \n",
       "OBJECT  = 'PLANCK 5-15000'     / MIDAS desc.: IDENT(1)                          \n",
       "RA      =                   0. / MIDAS desc.: O_POS(1)                          \n",
       "DEC     =                   0. / MIDAS desc.: O_POS(2)                          \n",
       "DATE-OBS= '01/01/00'           / MIDAS desc.: O_TIME(1)                         \n",
       "TM-START=                   0. / MIDAS desc.: O_TIME(5)                         \n",
       "EXPTIME =                   0. / MIDAS desc.: O_TIME(7)                         \n",
       "HISTORY EXTRACT/IMAG s2  = planck[<,@2:>,@2]                                   \\\n",
       "HISTORY  \\                                                                      \n",
       "HISTORY       Converted from: pla0002.fits                                     \\\n",
       "HISTORY                                                                         \n",
       "                                                                                \n",
       "HISTORY  ESO-DESCRIPTORS START   ................                               \n",
       "HISTORY  'LHCUTS','R*4',1,4,'5E14.7'                                            \n",
       "HISTORY   0.0000000E+00 0.0000000E+00 0.0000000E+00 2.0490018E-01               \n",
       "HISTORY                                                                         \n",
       "HISTORY  'IHAPUSER','R*4',1,5,'5E14.7'                                          \n",
       "HISTORY   0.0000000E+00 0.0000000E+00 0.0000000E+00 0.0000000E+00 0.0000000E+00 \n",
       "HISTORY                                                                         \n",
       "HISTORY  'O_COM','C*1',1,105,'70A1'                                             \n",
       "HISTORY  PLANCK-KURVEN IN 1E7 ERG S**-1 CM**-2 A**-1 \\nS1: 5000; S2: 5500;ETC.; \n",
       "HISTORY   S11: 10000; S12: 11000 \\nS16: 15000\\n                                 \n",
       "HISTORY                                                                         \n",
       "HISTORY  'HIST_BINS','R*4',1,4,'5E14.7'                                         \n",
       "HISTORY   2.5600000E+02 8.0353010E-04 0.0000000E+00 2.0490018E-01               \n",
       "HISTORY                                                                         \n",
       "HISTORY  'HISTOGRAM','I*4',1,256,'7I10'                                         \n",
       "HISTORY         260         0         0         0         0         0         0 \n",
       "HISTORY           0         0         0         0         0         0         0 \n",
       "HISTORY           0         0         0         0         0         0         0 \n",
       "HISTORY           0         0         0         0         0         0         0 \n",
       "HISTORY           0         0         0         0         0         0         0 \n",
       "HISTORY           0         0         0         0         0         0         0 \n",
       "HISTORY           0         0         0         0         0         0         0 \n",
       "HISTORY           0         0         0         0         0         0         0 \n",
       "HISTORY           0         0         0         0         0         0         0 \n",
       "HISTORY           0         0         0         0         0         0         0 \n",
       "HISTORY           0         0         0         0         0         0         0 \n",
       "HISTORY           0         0         0         0         0         0         0 \n",
       "HISTORY           0         0         0         0         0         0         0 \n",
       "HISTORY           0         0         0         0         0         0         0 \n",
       "HISTORY           0         0         0         0         0         0         0 \n",
       "HISTORY           0         0         0         1         1         2         1 \n",
       "HISTORY           2         1         2         1         1         2         1 \n",
       "HISTORY           2         1         2         1         2         1         2 \n",
       "HISTORY           1         2         1         2         2         1         2 \n",
       "HISTORY           1         2         1         2         2         1         2 \n",
       "HISTORY           1         2         5         9        10         9         9 \n",
       "HISTORY           9         9         8         9         8         8         9 \n",
       "HISTORY           8         8         8         8         8         8         8 \n",
       "HISTORY           8         8         8         7         7         8         8 \n",
       "HISTORY           8         7         8         8         7         7         8 \n",
       "HISTORY           7         8         7         8         7         8         7 \n",
       "HISTORY           7         8         7         8         8         8         7 \n",
       "HISTORY           7         8         7         8         8         7         8 \n",
       "HISTORY           7         8         8         7         9         7         8 \n",
       "HISTORY           8         7         9         7         9         7         9 \n",
       "HISTORY           8         8         9         8         8         9         8 \n",
       "HISTORY           9         9         9         9         8         9         9 \n",
       "HISTORY           9         9        10        10         9        10        10 \n",
       "HISTORY          10        10        10        11        11        11        11 \n",
       "HISTORY          12        11        13        12        13        13        14 \n",
       "HISTORY          15        15        15        18        18        19        24 \n",
       "HISTORY          26        35        82         1                               \n",
       "HISTORY                                                                         \n",
       "HISTORY  'STATISTIC','R*4',1,11,'5E14.7'                                        \n",
       "HISTORY   0.0000000E+00 2.0490018E-01 1.3601843E-01 6.9380783E-02 4.1133421E-03 \n",
       "HISTORY   7.4318377E-04 1.9872292E+02 1.6954485E-01 2.0369488E-01 2.5600000E+02 \n",
       "HISTORY   8.0353010E-04                                                         \n",
       "HISTORY                                                                         \n",
       "HISTORY  'WINDOW_FROM','I*4',1,1,'7I10'                                         \n",
       "HISTORY           1                                                             \n",
       "HISTORY                                                                         \n",
       "HISTORY  'WINDOW_TO','I*4',1,1,'7I10'                                           \n",
       "HISTORY        1461                                                             \n",
       "HISTORY                                                                         \n",
       "HISTORY  ESO-DESCRIPTORS END     ................                               \n",
       "                                                                                "
      ]
     },
     "execution_count": 5,
     "metadata": {},
     "output_type": "execute_result"
    }
   ],
   "source": [
    "pla[2][0].header"
   ]
  },
  {
   "cell_type": "code",
   "execution_count": 6,
   "id": "mediterranean-title",
   "metadata": {},
   "outputs": [
    {
     "data": {
      "text/plain": [
       "SIMPLE  =                    T / Standard FITS format: NOST 100-2.0             \n",
       "BITPIX  =                  -32 / No. of bits per pixel                          \n",
       "NAXIS   =                    1 / No. of axes in image                           \n",
       "NAXIS1  =                 1461 / No. of pixels                                  \n",
       "EXTEND  =                    T / FITS extension may be present                  \n",
       "COMMENT NOST 100-2.0: Hanisch,R. et al. 2001, Astron. & Astrophys. 376, 559     \n",
       "                                                                                \n",
       "CRPIX1  =                   1. / Reference pixel                                \n",
       "CRVAL1  =                2200. / Coordinate at reference pixel                  \n",
       "CDELT1  =                   5. / Coord. incr. per pixel (original value)        \n",
       "CTYPE1  = '                '   / Units of coordinate                            \n",
       "BUNIT   = '                '   / Units of data values                           \n",
       "DATAMAX =       0.315994977951 / Maximum data value                             \n",
       "DATAMIN =                   0. / Minimum data value                             \n",
       "                                                                                \n",
       "ORIGIN  = 'ESO-MIDAS'          / Written by MIDAS                               \n",
       "DATE    = '2021-08-03T17:04:37' /  [UTC] Date of writing                        \n",
       "FILENAME= 'pla0003.bdf'        / Original file base-name                        \n",
       "MIDASFTP= 'IMAGE   '           / MIDAS File Type                                \n",
       "                                                                                \n",
       "OBJECT  = 'PLANCK 5-15000'     / MIDAS desc.: IDENT(1)                          \n",
       "RA      =                   0. / MIDAS desc.: O_POS(1)                          \n",
       "DEC     =                   0. / MIDAS desc.: O_POS(2)                          \n",
       "DATE-OBS= '01/01/00'           / MIDAS desc.: O_TIME(1)                         \n",
       "TM-START=                   0. / MIDAS desc.: O_TIME(5)                         \n",
       "EXPTIME =                   0. / MIDAS desc.: O_TIME(7)                         \n",
       "HISTORY EXTRACT/IMAG s3  = planck[<,@3:>,@3]                                   \\\n",
       "HISTORY  \\                                                                      \n",
       "HISTORY       Converted from: pla0003.fits                                     \\\n",
       "HISTORY                                                                         \n",
       "                                                                                \n",
       "HISTORY  ESO-DESCRIPTORS START   ................                               \n",
       "HISTORY  'LHCUTS','R*4',1,4,'5E14.7'                                            \n",
       "HISTORY   0.0000000E+00 0.0000000E+00 0.0000000E+00 3.1599498E-01               \n",
       "HISTORY                                                                         \n",
       "HISTORY  'IHAPUSER','R*4',1,5,'5E14.7'                                          \n",
       "HISTORY   0.0000000E+00 0.0000000E+00 0.0000000E+00 0.0000000E+00 0.0000000E+00 \n",
       "HISTORY                                                                         \n",
       "HISTORY  'O_COM','C*1',1,105,'70A1'                                             \n",
       "HISTORY  PLANCK-KURVEN IN 1E7 ERG S**-1 CM**-2 A**-1 \\nS1: 5000; S2: 5500;ETC.; \n",
       "HISTORY   S11: 10000; S12: 11000 \\nS16: 15000\\n                                 \n",
       "HISTORY                                                                         \n",
       "HISTORY  ESO-DESCRIPTORS END     ................                               \n",
       "                                                                                "
      ]
     },
     "execution_count": 6,
     "metadata": {},
     "output_type": "execute_result"
    }
   ],
   "source": [
    "pla[3][0].header"
   ]
  },
  {
   "cell_type": "code",
   "execution_count": 7,
   "id": "careful-small",
   "metadata": {},
   "outputs": [],
   "source": [
    "hdr = pla[3][0].header"
   ]
  },
  {
   "cell_type": "code",
   "execution_count": 8,
   "id": "f430ae81",
   "metadata": {},
   "outputs": [],
   "source": [
    "n    = hdr['NAXIS1']\n",
    "lo   = hdr['CRVAL1']\n",
    "step = hdr['CDELT1']"
   ]
  },
  {
   "cell_type": "code",
   "execution_count": 9,
   "id": "195c1d26",
   "metadata": {},
   "outputs": [],
   "source": [
    "lmb = np.arange(lo, lo + n * step, step)"
   ]
  },
  {
   "cell_type": "code",
   "execution_count": 10,
   "id": "74aed94a",
   "metadata": {},
   "outputs": [
    {
     "data": {
      "text/plain": [
       "[<matplotlib.lines.Line2D at 0x7f9212a8bac0>]"
      ]
     },
     "execution_count": 10,
     "metadata": {},
     "output_type": "execute_result"
    },
    {
     "data": {
      "image/png": "[encoded data removed]",
      "text/plain": [
       "<Figure size 432x288 with 1 Axes>"
      ]
     },
     "metadata": {
      "needs_background": "light"
     },
     "output_type": "display_data"
    }
   ],
   "source": [
    "plt.plot(lmb, pla[3][0].data)\n",
    "plt.plot(lmb, pla[2][0].data)"
   ]
  },
  {
   "cell_type": "code",
   "execution_count": null,
   "id": "877c9324",
   "metadata": {},
   "outputs": [],
   "source": []
  },
  {
   "cell_type": "code",
   "execution_count": 11,
   "id": "e2137e22",
   "metadata": {},
   "outputs": [],
   "source": [
    "from astropy.modeling import models\n",
    "from astropy import units as u\n",
    "\n",
    "bb = models.BlackBody"
   ]
  },
  {
   "cell_type": "code",
   "execution_count": null,
   "id": "66aa274d",
   "metadata": {},
   "outputs": [],
   "source": []
  },
  {
   "cell_type": "code",
   "execution_count": null,
   "id": "b32c35cd",
   "metadata": {},
   "outputs": [],
   "source": []
  },
  {
   "cell_type": "code",
   "execution_count": 12,
   "id": "1a27ab50",
   "metadata": {},
   "outputs": [],
   "source": [
    "# with quantity_support():\n",
    "#    plt.figure()\n",
    "#    plt.semilogx(lmb_AA, spec)\n",
    "    #plt.axvline(p6000.nu_max.to(u.AA, equivalencies=u.spectral()).value, ls='--')\n",
    "#    plt.show()"
   ]
  },
  {
   "cell_type": "code",
   "execution_count": 13,
   "id": "bbb6eab3",
   "metadata": {},
   "outputs": [],
   "source": [
    "from astropy.constants import b_wien"
   ]
  },
  {
   "cell_type": "code",
   "execution_count": 14,
   "id": "7d5593e1",
   "metadata": {},
   "outputs": [],
   "source": [
    "temperature = b_wien / (6000 * u.AA)"
   ]
  },
  {
   "cell_type": "code",
   "execution_count": 41,
   "id": "a004b356",
   "metadata": {},
   "outputs": [
    {
     "ename": "UnitConversionError",
     "evalue": "'erg / (cm2 Hz s sr)' and 'erg / (Angstrom cm2 s sr)' are not convertible",
     "output_type": "error",
     "traceback": [
      "\u001b[0;31m---------------------------------------------------------------------------\u001b[0m",
      "\u001b[0;31mUnitConversionError\u001b[0m                       Traceback (most recent call last)",
      "\u001b[0;32m<ipython-input-41-3c6341b829d2>\u001b[0m in \u001b[0;36m<module>\u001b[0;34m\u001b[0m\n\u001b[0;32m----> 1\u001b[0;31m \u001b[0mbb\u001b[0m\u001b[0;34m(\u001b[0m\u001b[0mtemperature\u001b[0m\u001b[0;34m)\u001b[0m\u001b[0;34m(\u001b[0m\u001b[0mlmb\u001b[0m \u001b[0;34m*\u001b[0m \u001b[0mu\u001b[0m\u001b[0;34m.\u001b[0m\u001b[0mAA\u001b[0m\u001b[0;34m)\u001b[0m\u001b[0;34m.\u001b[0m\u001b[0mto\u001b[0m\u001b[0;34m(\u001b[0m\u001b[0mu\u001b[0m\u001b[0;34m.\u001b[0m\u001b[0merg\u001b[0m \u001b[0;34m/\u001b[0m \u001b[0;34m(\u001b[0m\u001b[0mu\u001b[0m\u001b[0;34m.\u001b[0m\u001b[0mAA\u001b[0m \u001b[0;34m*\u001b[0m \u001b[0mu\u001b[0m\u001b[0;34m.\u001b[0m\u001b[0msr\u001b[0m \u001b[0;34m*\u001b[0m \u001b[0mu\u001b[0m\u001b[0;34m.\u001b[0m\u001b[0mcm\u001b[0m\u001b[0;34m**\u001b[0m\u001b[0;36m2\u001b[0m \u001b[0;34m*\u001b[0m \u001b[0mu\u001b[0m\u001b[0;34m.\u001b[0m\u001b[0ms\u001b[0m\u001b[0;34m)\u001b[0m\u001b[0;34m,\u001b[0m \u001b[0mequivalencies\u001b[0m\u001b[0;34m=\u001b[0m\u001b[0mu\u001b[0m\u001b[0;34m.\u001b[0m\u001b[0mspectral\u001b[0m\u001b[0;34m(\u001b[0m\u001b[0;34m)\u001b[0m\u001b[0;34m)\u001b[0m\u001b[0;34m\u001b[0m\u001b[0;34m\u001b[0m\u001b[0m\n\u001b[0m",
      "\u001b[0;32m~/.pyenv/versions/3.9.2/lib/python3.9/site-packages/astropy/units/quantity.py\u001b[0m in \u001b[0;36mto\u001b[0;34m(self, unit, equivalencies, copy)\u001b[0m\n\u001b[1;32m    694\u001b[0m             \u001b[0;31m# Avoid using to_value to ensure that we make a copy. We also\u001b[0m\u001b[0;34m\u001b[0m\u001b[0;34m\u001b[0m\u001b[0;34m\u001b[0m\u001b[0m\n\u001b[1;32m    695\u001b[0m             \u001b[0;31m# don't want to slow down this method (esp. the scalar case).\u001b[0m\u001b[0;34m\u001b[0m\u001b[0;34m\u001b[0m\u001b[0;34m\u001b[0m\u001b[0m\n\u001b[0;32m--> 696\u001b[0;31m             \u001b[0mvalue\u001b[0m \u001b[0;34m=\u001b[0m \u001b[0mself\u001b[0m\u001b[0;34m.\u001b[0m\u001b[0m_to_value\u001b[0m\u001b[0;34m(\u001b[0m\u001b[0munit\u001b[0m\u001b[0;34m,\u001b[0m \u001b[0mequivalencies\u001b[0m\u001b[0;34m)\u001b[0m\u001b[0;34m\u001b[0m\u001b[0;34m\u001b[0m\u001b[0m\n\u001b[0m\u001b[1;32m    697\u001b[0m         \u001b[0;32melse\u001b[0m\u001b[0;34m:\u001b[0m\u001b[0;34m\u001b[0m\u001b[0;34m\u001b[0m\u001b[0m\n\u001b[1;32m    698\u001b[0m             \u001b[0;31m# to_value only copies if necessary\u001b[0m\u001b[0;34m\u001b[0m\u001b[0;34m\u001b[0m\u001b[0;34m\u001b[0m\u001b[0m\n",
      "\u001b[0;32m~/.pyenv/versions/3.9.2/lib/python3.9/site-packages/astropy/units/quantity.py\u001b[0m in \u001b[0;36m_to_value\u001b[0;34m(self, unit, equivalencies)\u001b[0m\n\u001b[1;32m    658\u001b[0m         \u001b[0;32mif\u001b[0m \u001b[0mequivalencies\u001b[0m \u001b[0;34m==\u001b[0m \u001b[0;34m[\u001b[0m\u001b[0;34m]\u001b[0m\u001b[0;34m:\u001b[0m\u001b[0;34m\u001b[0m\u001b[0;34m\u001b[0m\u001b[0m\n\u001b[1;32m    659\u001b[0m             \u001b[0mequivalencies\u001b[0m \u001b[0;34m=\u001b[0m \u001b[0mself\u001b[0m\u001b[0;34m.\u001b[0m\u001b[0m_equivalencies\u001b[0m\u001b[0;34m\u001b[0m\u001b[0;34m\u001b[0m\u001b[0m\n\u001b[0;32m--> 660\u001b[0;31m         return self.unit.to(unit, self.view(np.ndarray),\n\u001b[0m\u001b[1;32m    661\u001b[0m                             equivalencies=equivalencies)\n\u001b[1;32m    662\u001b[0m \u001b[0;34m\u001b[0m\u001b[0m\n",
      "\u001b[0;32m~/.pyenv/versions/3.9.2/lib/python3.9/site-packages/astropy/units/core.py\u001b[0m in \u001b[0;36mto\u001b[0;34m(self, other, value, equivalencies)\u001b[0m\n\u001b[1;32m    985\u001b[0m             \u001b[0;32mreturn\u001b[0m \u001b[0mUNITY\u001b[0m\u001b[0;34m\u001b[0m\u001b[0;34m\u001b[0m\u001b[0m\n\u001b[1;32m    986\u001b[0m         \u001b[0;32melse\u001b[0m\u001b[0;34m:\u001b[0m\u001b[0;34m\u001b[0m\u001b[0;34m\u001b[0m\u001b[0m\n\u001b[0;32m--> 987\u001b[0;31m             \u001b[0;32mreturn\u001b[0m \u001b[0mself\u001b[0m\u001b[0;34m.\u001b[0m\u001b[0m_get_converter\u001b[0m\u001b[0;34m(\u001b[0m\u001b[0mother\u001b[0m\u001b[0;34m,\u001b[0m \u001b[0mequivalencies\u001b[0m\u001b[0;34m=\u001b[0m\u001b[0mequivalencies\u001b[0m\u001b[0;34m)\u001b[0m\u001b[0;34m(\u001b[0m\u001b[0mvalue\u001b[0m\u001b[0;34m)\u001b[0m\u001b[0;34m\u001b[0m\u001b[0;34m\u001b[0m\u001b[0m\n\u001b[0m\u001b[1;32m    988\u001b[0m \u001b[0;34m\u001b[0m\u001b[0m\n\u001b[1;32m    989\u001b[0m     \u001b[0;32mdef\u001b[0m \u001b[0min_units\u001b[0m\u001b[0;34m(\u001b[0m\u001b[0mself\u001b[0m\u001b[0;34m,\u001b[0m \u001b[0mother\u001b[0m\u001b[0;34m,\u001b[0m \u001b[0mvalue\u001b[0m\u001b[0;34m=\u001b[0m\u001b[0;36m1.0\u001b[0m\u001b[0;34m,\u001b[0m \u001b[0mequivalencies\u001b[0m\u001b[0;34m=\u001b[0m\u001b[0;34m[\u001b[0m\u001b[0;34m]\u001b[0m\u001b[0;34m)\u001b[0m\u001b[0;34m:\u001b[0m\u001b[0;34m\u001b[0m\u001b[0;34m\u001b[0m\u001b[0m\n",
      "\u001b[0;32m~/.pyenv/versions/3.9.2/lib/python3.9/site-packages/astropy/units/core.py\u001b[0m in \u001b[0;36m_get_converter\u001b[0;34m(self, other, equivalencies)\u001b[0m\n\u001b[1;32m    916\u001b[0m                             \u001b[0;32mpass\u001b[0m\u001b[0;34m\u001b[0m\u001b[0;34m\u001b[0m\u001b[0m\n\u001b[1;32m    917\u001b[0m \u001b[0;34m\u001b[0m\u001b[0m\n\u001b[0;32m--> 918\u001b[0;31m             \u001b[0;32mraise\u001b[0m \u001b[0mexc\u001b[0m\u001b[0;34m\u001b[0m\u001b[0;34m\u001b[0m\u001b[0m\n\u001b[0m\u001b[1;32m    919\u001b[0m \u001b[0;34m\u001b[0m\u001b[0m\n\u001b[1;32m    920\u001b[0m     \u001b[0;32mdef\u001b[0m \u001b[0m_to\u001b[0m\u001b[0;34m(\u001b[0m\u001b[0mself\u001b[0m\u001b[0;34m,\u001b[0m \u001b[0mother\u001b[0m\u001b[0;34m)\u001b[0m\u001b[0;34m:\u001b[0m\u001b[0;34m\u001b[0m\u001b[0;34m\u001b[0m\u001b[0m\n",
      "\u001b[0;32m~/.pyenv/versions/3.9.2/lib/python3.9/site-packages/astropy/units/core.py\u001b[0m in \u001b[0;36m_get_converter\u001b[0;34m(self, other, equivalencies)\u001b[0m\n\u001b[1;32m    901\u001b[0m         \u001b[0;31m# if that doesn't work, maybe we can do it with equivalencies?\u001b[0m\u001b[0;34m\u001b[0m\u001b[0;34m\u001b[0m\u001b[0;34m\u001b[0m\u001b[0m\n\u001b[1;32m    902\u001b[0m         \u001b[0;32mtry\u001b[0m\u001b[0;34m:\u001b[0m\u001b[0;34m\u001b[0m\u001b[0;34m\u001b[0m\u001b[0m\n\u001b[0;32m--> 903\u001b[0;31m             return self._apply_equivalencies(\n\u001b[0m\u001b[1;32m    904\u001b[0m                 self, other, self._normalize_equivalencies(equivalencies))\n\u001b[1;32m    905\u001b[0m         \u001b[0;32mexcept\u001b[0m \u001b[0mUnitsError\u001b[0m \u001b[0;32mas\u001b[0m \u001b[0mexc\u001b[0m\u001b[0;34m:\u001b[0m\u001b[0;34m\u001b[0m\u001b[0;34m\u001b[0m\u001b[0m\n",
      "\u001b[0;32m~/.pyenv/versions/3.9.2/lib/python3.9/site-packages/astropy/units/core.py\u001b[0m in \u001b[0;36m_apply_equivalencies\u001b[0;34m(self, unit, other, equivalencies)\u001b[0m\n\u001b[1;32m    884\u001b[0m         \u001b[0mother_str\u001b[0m \u001b[0;34m=\u001b[0m \u001b[0mget_err_str\u001b[0m\u001b[0;34m(\u001b[0m\u001b[0mother\u001b[0m\u001b[0;34m)\u001b[0m\u001b[0;34m\u001b[0m\u001b[0;34m\u001b[0m\u001b[0m\n\u001b[1;32m    885\u001b[0m \u001b[0;34m\u001b[0m\u001b[0m\n\u001b[0;32m--> 886\u001b[0;31m         raise UnitConversionError(\n\u001b[0m\u001b[1;32m    887\u001b[0m             \"{} and {} are not convertible\".format(\n\u001b[1;32m    888\u001b[0m                 unit_str, other_str))\n",
      "\u001b[0;31mUnitConversionError\u001b[0m: 'erg / (cm2 Hz s sr)' and 'erg / (Angstrom cm2 s sr)' are not convertible"
     ]
    }
   ],
   "source": [
    "bb(temperature)(lmb * u.AA).to(u.erg / (u.AA * u.sr * u.cm**2 * u.s), equivalencies=u.spectral())"
   ]
  },
  {
   "cell_type": "code",
   "execution_count": null,
   "id": "8e9c3422",
   "metadata": {},
   "outputs": [],
   "source": []
  },
  {
   "cell_type": "code",
   "execution_count": 28,
   "id": "45bc41a1",
   "metadata": {},
   "outputs": [
    {
     "data": {
      "text/latex": [
       "$8499.0722 \\; \\mathrm{\\mathring{A}}$"
      ],
      "text/plain": [
       "<Quantity 8499.07220222 Angstrom>"
      ]
     },
     "execution_count": 28,
     "metadata": {},
     "output_type": "execute_result"
    }
   ],
   "source": [
    "bb(6000*u.K).nu_max.to(u.AA, equivalencies=u.spectral())"
   ]
  },
  {
   "cell_type": "code",
   "execution_count": 36,
   "id": "7621fe04",
   "metadata": {},
   "outputs": [
    {
     "data": {
      "text/latex": [
       "$4.8296199 \\times 10^{-7} \\; \\mathrm{m}$"
      ],
      "text/plain": [
       "<Quantity 4.82961993e-07 m>"
      ]
     },
     "execution_count": 36,
     "metadata": {},
     "output_type": "execute_result"
    }
   ],
   "source": [
    "bb(6000*u.K).lambda_max"
   ]
  },
  {
   "cell_type": "code",
   "execution_count": null,
   "id": "83a70484",
   "metadata": {},
   "outputs": [],
   "source": []
  },
  {
   "cell_type": "code",
   "execution_count": null,
   "id": "logical-barrel",
   "metadata": {},
   "outputs": [],
   "source": []
  },
  {
   "cell_type": "code",
   "execution_count": null,
   "id": "traditional-florida",
   "metadata": {},
   "outputs": [],
   "source": []
  },
  {
   "cell_type": "code",
   "execution_count": null,
   "id": "meaning-orange",
   "metadata": {},
   "outputs": [],
   "source": []
  },
  {
   "cell_type": "code",
   "execution_count": null,
   "id": "amazing-stream",
   "metadata": {},
   "outputs": [],
   "source": []
  },
  {
   "cell_type": "code",
   "execution_count": null,
   "id": "sophisticated-marsh",
   "metadata": {},
   "outputs": [],
   "source": []
  }
 ],
 "metadata": {
  "kernelspec": {
   "display_name": "Python 3",
   "language": "python",
   "name": "python3"
  },
  "language_info": {
   "codemirror_mode": {
    "name": "ipython",
    "version": 3
   },
   "file_extension": ".py",
   "mimetype": "text/x-python",
   "name": "python",
   "nbconvert_exporter": "python",
   "pygments_lexer": "ipython3",
   "version": "3.9.2"
  }
 },
 "nbformat": 4,
 "nbformat_minor": 5
}
