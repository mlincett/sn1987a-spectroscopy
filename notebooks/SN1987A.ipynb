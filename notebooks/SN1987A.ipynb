{
 "cells": [
  {
   "cell_type": "code",
   "execution_count": 2,
   "id": "dependent-hammer",
   "metadata": {},
   "outputs": [],
   "source": [
    "from astropy.io import fits\n",
    "from os.path import join as jp"
   ]
  },
  {
   "cell_type": "code",
   "execution_count": 8,
   "id": "confused-developer",
   "metadata": {},
   "outputs": [],
   "source": [
    "fits_path = '../fits'\n",
    "\n",
    "file = jp(fits_path, 'sn.fits')"
   ]
  },
  {
   "cell_type": "code",
   "execution_count": 9,
   "id": "turkish-oakland",
   "metadata": {},
   "outputs": [],
   "source": [
    "p = fits.open(jp(fits_path,'pla0002.mt'))"
   ]
  },
  {
   "cell_type": "code",
   "execution_count": 10,
   "id": "damaged-writer",
   "metadata": {},
   "outputs": [],
   "source": [
    "sn = fits.open(jp(fits_path,'sn.mt'))"
   ]
  },
  {
   "cell_type": "code",
   "execution_count": 11,
   "id": "combined-presentation",
   "metadata": {},
   "outputs": [
    {
     "name": "stdout",
     "output_type": "stream",
     "text": [
      "Filename: ../fits/pla0002.mt\n",
      "No.    Name      Ver    Type      Cards   Dimensions   Format\n",
      "  0  PRIMARY       1 PrimaryHDU      97   (1461,)   float32   \n"
     ]
    }
   ],
   "source": [
    "p.info()"
   ]
  },
  {
   "cell_type": "code",
   "execution_count": 13,
   "id": "mediterranean-title",
   "metadata": {},
   "outputs": [
    {
     "data": {
      "text/plain": [
       "<astropy.io.fits.hdu.image.PrimaryHDU at 0x7ff7cdc54730>"
      ]
     },
     "execution_count": 13,
     "metadata": {},
     "output_type": "execute_result"
    }
   ],
   "source": [
    "p[0]"
   ]
  },
  {
   "cell_type": "code",
   "execution_count": 14,
   "id": "careful-small",
   "metadata": {},
   "outputs": [
    {
     "name": "stdout",
     "output_type": "stream",
     "text": [
      "Filename: ../fits/sn.mt\n",
      "No.    Name      Ver    Type      Cards   Dimensions   Format\n",
      "  0  PRIMARY       1 PrimaryHDU     102   (1201, 110)   float32   \n"
     ]
    }
   ],
   "source": [
    "sn.info()"
   ]
  },
  {
   "cell_type": "code",
   "execution_count": null,
   "id": "arabic-shirt",
   "metadata": {},
   "outputs": [],
   "source": []
  }
 ],
 "metadata": {
  "kernelspec": {
   "display_name": "Python 3",
   "language": "python",
   "name": "python3"
  },
  "language_info": {
   "codemirror_mode": {
    "name": "ipython",
    "version": 3
   },
   "file_extension": ".py",
   "mimetype": "text/x-python",
   "name": "python",
   "nbconvert_exporter": "python",
   "pygments_lexer": "ipython3",
   "version": "3.9.2"
  }
 },
 "nbformat": 4,
 "nbformat_minor": 5
}
