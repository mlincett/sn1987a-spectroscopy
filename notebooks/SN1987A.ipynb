{
 "cells": [
  {
   "cell_type": "code",
   "execution_count": 1,
   "id": "dependent-hammer",
   "metadata": {},
   "outputs": [],
   "source": [
    "from astropy.io import fits\n",
    "from os.path import join as jp\n",
    "import matplotlib.pyplot as plt\n",
    "import numpy as np"
   ]
  },
  {
   "cell_type": "code",
   "execution_count": 20,
   "id": "confused-developer",
   "metadata": {},
   "outputs": [],
   "source": [
    "fits_path = '../fits'\n",
    "\n",
    "file = jp(fits_path, 'sn.fits')\n",
    "\n",
    "pla = dict()"
   ]
  },
  {
   "cell_type": "code",
   "execution_count": 21,
   "id": "turkish-oakland",
   "metadata": {},
   "outputs": [],
   "source": [
    "pla[2] = fits.open(jp(fits_path,'pla0002.mt'))\n",
    "pla[3] = fits.open(jp(fits_path,'pla0003.mt'))"
   ]
  },
  {
   "cell_type": "code",
   "execution_count": 22,
   "id": "damaged-writer",
   "metadata": {},
   "outputs": [],
   "source": [
    "sn = fits.open(jp(fits_path,'sn.mt'))"
   ]
  },
  {
   "cell_type": "code",
   "execution_count": 30,
   "id": "combined-presentation",
   "metadata": {},
   "outputs": [
    {
     "data": {
      "text/plain": [
       "SIMPLE  =                    T / Standard FITS format: NOST 100-2.0             \n",
       "BITPIX  =                  -32 / No. of bits per pixel                          \n",
       "NAXIS   =                    1 / No. of axes in image                           \n",
       "NAXIS1  =                 1461 / No. of pixels                                  \n",
       "EXTEND  =                    T / FITS extension may be present                  \n",
       "COMMENT NOST 100-2.0: Hanisch,R. et al. 2001, Astron. & Astrophys. 376, 559     \n",
       "                                                                                \n",
       "CRPIX1  =                   1. / Reference pixel                                \n",
       "CRVAL1  =                2200. / Coordinate at reference pixel                  \n",
       "CDELT1  =                   5. / Coord. incr. per pixel (original value)        \n",
       "CTYPE1  = '                '   / Units of coordinate                            \n",
       "BUNIT   = '                '   / Units of data values                           \n",
       "DATAMAX =       0.204900175333 / Maximum data value                             \n",
       "DATAMIN =                   0. / Minimum data value                             \n",
       "                                                                                \n",
       "ORIGIN  = 'ESO-MIDAS'          / Written by MIDAS                               \n",
       "DATE    = '2021-08-03T17:04:37' /  [UTC] Date of writing                        \n",
       "FILENAME= 'pla0002.bdf'        / Original file base-name                        \n",
       "MIDASFTP= 'IMAGE   '           / MIDAS File Type                                \n",
       "                                                                                \n",
       "OBJECT  = 'PLANCK 5-15000'     / MIDAS desc.: IDENT(1)                          \n",
       "RA      =                   0. / MIDAS desc.: O_POS(1)                          \n",
       "DEC     =                   0. / MIDAS desc.: O_POS(2)                          \n",
       "DATE-OBS= '01/01/00'           / MIDAS desc.: O_TIME(1)                         \n",
       "TM-START=                   0. / MIDAS desc.: O_TIME(5)                         \n",
       "EXPTIME =                   0. / MIDAS desc.: O_TIME(7)                         \n",
       "HISTORY EXTRACT/IMAG s2  = planck[<,@2:>,@2]                                   \\\n",
       "HISTORY  \\                                                                      \n",
       "HISTORY       Converted from: pla0002.fits                                     \\\n",
       "HISTORY                                                                         \n",
       "                                                                                \n",
       "HISTORY  ESO-DESCRIPTORS START   ................                               \n",
       "HISTORY  'LHCUTS','R*4',1,4,'5E14.7'                                            \n",
       "HISTORY   0.0000000E+00 0.0000000E+00 0.0000000E+00 2.0490018E-01               \n",
       "HISTORY                                                                         \n",
       "HISTORY  'IHAPUSER','R*4',1,5,'5E14.7'                                          \n",
       "HISTORY   0.0000000E+00 0.0000000E+00 0.0000000E+00 0.0000000E+00 0.0000000E+00 \n",
       "HISTORY                                                                         \n",
       "HISTORY  'O_COM','C*1',1,105,'70A1'                                             \n",
       "HISTORY  PLANCK-KURVEN IN 1E7 ERG S**-1 CM**-2 A**-1 \\nS1: 5000; S2: 5500;ETC.; \n",
       "HISTORY   S11: 10000; S12: 11000 \\nS16: 15000\\n                                 \n",
       "HISTORY                                                                         \n",
       "HISTORY  'HIST_BINS','R*4',1,4,'5E14.7'                                         \n",
       "HISTORY   2.5600000E+02 8.0353010E-04 0.0000000E+00 2.0490018E-01               \n",
       "HISTORY                                                                         \n",
       "HISTORY  'HISTOGRAM','I*4',1,256,'7I10'                                         \n",
       "HISTORY         260         0         0         0         0         0         0 \n",
       "HISTORY           0         0         0         0         0         0         0 \n",
       "HISTORY           0         0         0         0         0         0         0 \n",
       "HISTORY           0         0         0         0         0         0         0 \n",
       "HISTORY           0         0         0         0         0         0         0 \n",
       "HISTORY           0         0         0         0         0         0         0 \n",
       "HISTORY           0         0         0         0         0         0         0 \n",
       "HISTORY           0         0         0         0         0         0         0 \n",
       "HISTORY           0         0         0         0         0         0         0 \n",
       "HISTORY           0         0         0         0         0         0         0 \n",
       "HISTORY           0         0         0         0         0         0         0 \n",
       "HISTORY           0         0         0         0         0         0         0 \n",
       "HISTORY           0         0         0         0         0         0         0 \n",
       "HISTORY           0         0         0         0         0         0         0 \n",
       "HISTORY           0         0         0         0         0         0         0 \n",
       "HISTORY           0         0         0         1         1         2         1 \n",
       "HISTORY           2         1         2         1         1         2         1 \n",
       "HISTORY           2         1         2         1         2         1         2 \n",
       "HISTORY           1         2         1         2         2         1         2 \n",
       "HISTORY           1         2         1         2         2         1         2 \n",
       "HISTORY           1         2         5         9        10         9         9 \n",
       "HISTORY           9         9         8         9         8         8         9 \n",
       "HISTORY           8         8         8         8         8         8         8 \n",
       "HISTORY           8         8         8         7         7         8         8 \n",
       "HISTORY           8         7         8         8         7         7         8 \n",
       "HISTORY           7         8         7         8         7         8         7 \n",
       "HISTORY           7         8         7         8         8         8         7 \n",
       "HISTORY           7         8         7         8         8         7         8 \n",
       "HISTORY           7         8         8         7         9         7         8 \n",
       "HISTORY           8         7         9         7         9         7         9 \n",
       "HISTORY           8         8         9         8         8         9         8 \n",
       "HISTORY           9         9         9         9         8         9         9 \n",
       "HISTORY           9         9        10        10         9        10        10 \n",
       "HISTORY          10        10        10        11        11        11        11 \n",
       "HISTORY          12        11        13        12        13        13        14 \n",
       "HISTORY          15        15        15        18        18        19        24 \n",
       "HISTORY          26        35        82         1                               \n",
       "HISTORY                                                                         \n",
       "HISTORY  'STATISTIC','R*4',1,11,'5E14.7'                                        \n",
       "HISTORY   0.0000000E+00 2.0490018E-01 1.3601843E-01 6.9380783E-02 4.1133421E-03 \n",
       "HISTORY   7.4318377E-04 1.9872292E+02 1.6954485E-01 2.0369488E-01 2.5600000E+02 \n",
       "HISTORY   8.0353010E-04                                                         \n",
       "HISTORY                                                                         \n",
       "HISTORY  'WINDOW_FROM','I*4',1,1,'7I10'                                         \n",
       "HISTORY           1                                                             \n",
       "HISTORY                                                                         \n",
       "HISTORY  'WINDOW_TO','I*4',1,1,'7I10'                                           \n",
       "HISTORY        1461                                                             \n",
       "HISTORY                                                                         \n",
       "HISTORY  ESO-DESCRIPTORS END     ................                               \n",
       "                                                                                "
      ]
     },
     "execution_count": 30,
     "metadata": {},
     "output_type": "execute_result"
    }
   ],
   "source": [
    "pla[2][0].header"
   ]
  },
  {
   "cell_type": "code",
   "execution_count": 31,
   "id": "mediterranean-title",
   "metadata": {},
   "outputs": [
    {
     "data": {
      "text/plain": [
       "SIMPLE  =                    T / Standard FITS format: NOST 100-2.0             \n",
       "BITPIX  =                  -32 / No. of bits per pixel                          \n",
       "NAXIS   =                    1 / No. of axes in image                           \n",
       "NAXIS1  =                 1461 / No. of pixels                                  \n",
       "EXTEND  =                    T / FITS extension may be present                  \n",
       "COMMENT NOST 100-2.0: Hanisch,R. et al. 2001, Astron. & Astrophys. 376, 559     \n",
       "                                                                                \n",
       "CRPIX1  =                   1. / Reference pixel                                \n",
       "CRVAL1  =                2200. / Coordinate at reference pixel                  \n",
       "CDELT1  =                   5. / Coord. incr. per pixel (original value)        \n",
       "CTYPE1  = '                '   / Units of coordinate                            \n",
       "BUNIT   = '                '   / Units of data values                           \n",
       "DATAMAX =       0.315994977951 / Maximum data value                             \n",
       "DATAMIN =                   0. / Minimum data value                             \n",
       "                                                                                \n",
       "ORIGIN  = 'ESO-MIDAS'          / Written by MIDAS                               \n",
       "DATE    = '2021-08-03T17:04:37' /  [UTC] Date of writing                        \n",
       "FILENAME= 'pla0003.bdf'        / Original file base-name                        \n",
       "MIDASFTP= 'IMAGE   '           / MIDAS File Type                                \n",
       "                                                                                \n",
       "OBJECT  = 'PLANCK 5-15000'     / MIDAS desc.: IDENT(1)                          \n",
       "RA      =                   0. / MIDAS desc.: O_POS(1)                          \n",
       "DEC     =                   0. / MIDAS desc.: O_POS(2)                          \n",
       "DATE-OBS= '01/01/00'           / MIDAS desc.: O_TIME(1)                         \n",
       "TM-START=                   0. / MIDAS desc.: O_TIME(5)                         \n",
       "EXPTIME =                   0. / MIDAS desc.: O_TIME(7)                         \n",
       "HISTORY EXTRACT/IMAG s3  = planck[<,@3:>,@3]                                   \\\n",
       "HISTORY  \\                                                                      \n",
       "HISTORY       Converted from: pla0003.fits                                     \\\n",
       "HISTORY                                                                         \n",
       "                                                                                \n",
       "HISTORY  ESO-DESCRIPTORS START   ................                               \n",
       "HISTORY  'LHCUTS','R*4',1,4,'5E14.7'                                            \n",
       "HISTORY   0.0000000E+00 0.0000000E+00 0.0000000E+00 3.1599498E-01               \n",
       "HISTORY                                                                         \n",
       "HISTORY  'IHAPUSER','R*4',1,5,'5E14.7'                                          \n",
       "HISTORY   0.0000000E+00 0.0000000E+00 0.0000000E+00 0.0000000E+00 0.0000000E+00 \n",
       "HISTORY                                                                         \n",
       "HISTORY  'O_COM','C*1',1,105,'70A1'                                             \n",
       "HISTORY  PLANCK-KURVEN IN 1E7 ERG S**-1 CM**-2 A**-1 \\nS1: 5000; S2: 5500;ETC.; \n",
       "HISTORY   S11: 10000; S12: 11000 \\nS16: 15000\\n                                 \n",
       "HISTORY                                                                         \n",
       "HISTORY  ESO-DESCRIPTORS END     ................                               \n",
       "                                                                                "
      ]
     },
     "execution_count": 31,
     "metadata": {},
     "output_type": "execute_result"
    }
   ],
   "source": [
    "pla[3][0].header"
   ]
  },
  {
   "cell_type": "code",
   "execution_count": 33,
   "id": "careful-small",
   "metadata": {},
   "outputs": [],
   "source": [
    "hdr = pla[3][0].header"
   ]
  },
  {
   "cell_type": "code",
   "execution_count": 34,
   "id": "f430ae81",
   "metadata": {},
   "outputs": [],
   "source": [
    "n    = hdr['NAXIS1']\n",
    "lo   = hdr['CRVAL1']\n",
    "step = hdr['CDELT1']"
   ]
  },
  {
   "cell_type": "code",
   "execution_count": 35,
   "id": "195c1d26",
   "metadata": {},
   "outputs": [],
   "source": [
    "lmb = np.arange(lo, lo + n * step, step)"
   ]
  },
  {
   "cell_type": "code",
   "execution_count": 38,
   "id": "74aed94a",
   "metadata": {},
   "outputs": [
    {
     "data": {
      "text/plain": [
       "[<matplotlib.lines.Line2D at 0x7fcf484e9670>]"
      ]
     },
     "execution_count": 38,
     "metadata": {},
     "output_type": "execute_result"
    },
    {
     "data": {
      "image/png": "[encoded data removed]",
      "text/plain": [
       "<Figure size 432x288 with 1 Axes>"
      ]
     },
     "metadata": {
      "needs_background": "light"
     },
     "output_type": "display_data"
    }
   ],
   "source": [
    "plt.plot(lmb, pla[3][0].data)\n",
    "plt.plot(lmb, pla[2][0].data)"
   ]
  },
  {
   "cell_type": "code",
   "execution_count": 39,
   "id": "877c9324",
   "metadata": {},
   "outputs": [],
   "source": []
  },
  {
   "cell_type": "code",
   "execution_count": 65,
   "id": "e2137e22",
   "metadata": {},
   "outputs": [],
   "source": [
    "from astropy.modeling import models\n",
    "from astropy import units as u\n",
    "\n",
    "bb = models.BlackBody"
   ]
  },
  {
   "cell_type": "code",
   "execution_count": 66,
   "id": "66aa274d",
   "metadata": {},
   "outputs": [],
   "source": [
    "p6000 = bb(6000 * u.K)"
   ]
  },
  {
   "cell_type": "code",
   "execution_count": 67,
   "id": "b32c35cd",
   "metadata": {},
   "outputs": [
    {
     "data": {
      "text/plain": [
       "<BlackBody(temperature=6000. K, scale=1.)>"
      ]
     },
     "execution_count": 67,
     "metadata": {},
     "output_type": "execute_result"
    }
   ],
   "source": [
    "p6000"
   ]
  },
  {
   "cell_type": "code",
   "execution_count": 68,
   "id": "1a27ab50",
   "metadata": {},
   "outputs": [],
   "source": [
    "lmb_AA = lmb * u.AA"
   ]
  },
  {
   "cell_type": "code",
   "execution_count": 78,
   "id": "bbb6eab3",
   "metadata": {},
   "outputs": [],
   "source": [
    "spec = p6000(lmb_AA)"
   ]
  },
  {
   "cell_type": "code",
   "execution_count": 79,
   "id": "7d5593e1",
   "metadata": {},
   "outputs": [
    {
     "data": {
      "text/latex": [
       "$[6.8883138 \\times 10^{-7},~7.0127681 \\times 10^{-7},~7.1387827 \\times 10^{-7},~\\dots,~4.0372949 \\times 10^{-5},~4.0367542 \\times 10^{-5},~4.0362115 \\times 10^{-5}] \\; \\mathrm{\\frac{erg}{Hz\\,s\\,sr\\,cm^{2}}}$"
      ],
      "text/plain": [
       "<Quantity [6.88831384e-07, 7.01276810e-07, 7.13878270e-07, ...,\n",
       "           4.03729490e-05, 4.03675421e-05, 4.03621147e-05] erg / (cm2 Hz s sr)>"
      ]
     },
     "execution_count": 79,
     "metadata": {},
     "output_type": "execute_result"
    }
   ],
   "source": [
    "spec"
   ]
  },
  {
   "cell_type": "code",
   "execution_count": 70,
   "id": "a004b356",
   "metadata": {},
   "outputs": [
    {
     "data": {
      "text/plain": [
       "array([6.88831384e-07, 7.01276810e-07, 7.13878270e-07, ...,\n",
       "       4.03729490e-05, 4.03675421e-05, 4.03621147e-05])"
      ]
     },
     "execution_count": 70,
     "metadata": {},
     "output_type": "execute_result"
    }
   ],
   "source": [
    "spec.value"
   ]
  },
  {
   "cell_type": "code",
   "execution_count": 87,
   "id": "8e9c3422",
   "metadata": {},
   "outputs": [
    {
     "data": {
      "text/plain": [
       "[<matplotlib.lines.Line2D at 0x7fcf4581ecd0>]"
      ]
     },
     "execution_count": 87,
     "metadata": {},
     "output_type": "execute_result"
    },
    {
     "data": {
      "image/png": "[encoded data removed]",
      "text/plain": [
       "<Figure size 432x288 with 1 Axes>"
      ]
     },
     "metadata": {
      "needs_background": "light"
     },
     "output_type": "display_data"
    }
   ],
   "source": [
    "plt.plot(lmb, bb(7000 * u.K)(lmb_AA).value)"
   ]
  },
  {
   "cell_type": "code",
   "execution_count": 72,
   "id": "45bc41a1",
   "metadata": {},
   "outputs": [],
   "source": [
    "from astropy.visualization import quantity_support"
   ]
  },
  {
   "cell_type": "code",
   "execution_count": 76,
   "id": "7621fe04",
   "metadata": {},
   "outputs": [
    {
     "data": {
      "image/png": "[encoded data removed]",
      "text/plain": [
       "<Figure size 432x288 with 1 Axes>"
      ]
     },
     "metadata": {
      "needs_background": "light"
     },
     "output_type": "display_data"
    }
   ],
   "source": [
    "with quantity_support():\n",
    "    plt.figure()\n",
    "    plt.semilogx(lmb_AA, spec)\n",
    "    #plt.axvline(p6000.nu_max.to(u.AA, equivalencies=u.spectral()).value, ls='--')\n",
    "    plt.show()"
   ]
  },
  {
   "cell_type": "code",
   "execution_count": null,
   "id": "83a70484",
   "metadata": {},
   "outputs": [],
   "source": []
  }
 ],
 "metadata": {
  "kernelspec": {
   "display_name": "Python 3 (ipykernel)",
   "language": "python",
   "name": "python3"
  },
  "language_info": {
   "codemirror_mode": {
    "name": "ipython",
    "version": 3
   },
   "file_extension": ".py",
   "mimetype": "text/x-python",
   "name": "python",
   "nbconvert_exporter": "python",
   "pygments_lexer": "ipython3",
   "version": "3.9.5"
  }
 },
 "nbformat": 4,
 "nbformat_minor": 5
}
