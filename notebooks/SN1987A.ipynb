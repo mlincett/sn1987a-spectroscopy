{
 "cells": [
  {
   "cell_type": "code",
   "execution_count": 22,
   "id": "cc8b8206",
   "metadata": {},
   "outputs": [],
   "source": [
    "import numpy as np\n",
    "from astropy.io import fits\n",
    "# from astropy.visualization import quantity_support\n",
    "from os.path import join as jp\n",
    "import matplotlib.pyplot as plt"
   ]
  },
  {
   "cell_type": "code",
   "execution_count": 27,
   "id": "0879cf41",
   "metadata": {},
   "outputs": [
    {
     "name": "stdout",
     "output_type": "stream",
     "text": [
      "Filename: ../fits/sn.mt\n",
      "No.    Name      Ver    Type      Cards   Dimensions   Format\n",
      "  0  PRIMARY       1 PrimaryHDU     102   (1201, 110)   float32   \n"
     ]
    }
   ],
   "source": [
    "fits_path = '../fits'\n",
    "\n",
    "with fits.open(jp(fits_path, 'sn.mt')) as hdul:\n",
    "    hdul.info()\n",
    "    hdu = hdul[0]\n",
    "    head = hdu.header\n",
    "    data = hdu.data"
   ]
  },
  {
   "cell_type": "code",
   "execution_count": 28,
   "id": "91b87138",
   "metadata": {},
   "outputs": [
    {
     "data": {
      "text/plain": [
       "SIMPLE  =                    T / Standard FITS format: NOST 100-2.0             \n",
       "BITPIX  =                  -32 / No. of bits per pixel                          \n",
       "NAXIS   =                    2 / No. of axes in image                           \n",
       "NAXIS1  =                 1201 / No. of pixels                                  \n",
       "NAXIS2  =                  110 / No. of pixels                                  \n",
       "EXTEND  =                    T / FITS extension may be present                  \n",
       "COMMENT NOST 100-2.0: Hanisch,R. et al. 2001, Astron. & Astrophys. 376, 559     \n",
       "                                                                                \n",
       "CRPIX1  =                   1. / Reference pixel                                \n",
       "CRVAL1  =                3000. / Coordinate at reference pixel                  \n",
       "CDELT1  =                   5. / Coord. incr. per pixel (original value)        \n",
       "CTYPE1  = '                '   / Units of coordinate                            \n",
       "CRPIX2  =                   1. / Reference pixel                                \n",
       "CRVAL2  =                   1. / Coordinate at reference pixel                  \n",
       "CDELT2  =                   1. / Coord. incr. per pixel (original value)        \n",
       "CTYPE2  = '                '   / Units of coordinate                            \n",
       "BUNIT   = '                '   / Units of data values                           \n",
       "DATAMAX =        9.73899459839 / Maximum data value                             \n",
       "DATAMIN =                   0. / Minimum data value                             \n",
       "                                                                                \n",
       "ORIGIN  = 'ESO-MIDAS'          / Written by MIDAS                               \n",
       "DATE    = '2021-08-03T17:04:37' /  [UTC] Date of writing                        \n",
       "FILENAME= 'sn.bdf  '           / Original file base-name                        \n",
       "MIDASFTP= 'IMAGE   '           / MIDAS File Type                                \n",
       "                                                                                \n",
       "OBJECT  = 'ISCON SN 225-614'   / MIDAS desc.: IDENT(1)                          \n",
       "RA      =                   0. / MIDAS desc.: O_POS(1)                          \n",
       "DEC     =                   0. / MIDAS desc.: O_POS(2)                          \n",
       "DATE-OBS= '01/01/00'           / MIDAS desc.: O_TIME(1)                         \n",
       "TM-START=                   0. / MIDAS desc.: O_TIME(5)                         \n",
       "EXPTIME =                   0. / MIDAS desc.: O_TIME(7)                         \n",
       "HISTORY Converted from: sn.fits                                                \\\n",
       "HISTORY                                                                         \n",
       "O_COM   = 'mit Eb-v = 0.16m entfaerbt'                                          \n",
       "                                                                                \n",
       "HISTORY  ESO-DESCRIPTORS START   ................                               \n",
       "HISTORY  'LHCUTS','R*4',1,6,'5E14.7'                                            \n",
       "HISTORY   0.0000000E+00 5.0000000E+00 0.0000000E+00 9.7389946E+00 0.0000000E+00 \n",
       "HISTORY   0.0000000E+00                                                         \n",
       "HISTORY                                                                         \n",
       "HISTORY  'IHAPUSER','R*4',1,5,'5E14.7'                                          \n",
       "HISTORY   0.0000000E+00 0.0000000E+00 0.0000000E+00 0.0000000E+00 0.0000000E+00 \n",
       "HISTORY                                                                         \n",
       "HISTORY  'HIST_BINS','R*4',1,4,'5E14.7'                                         \n",
       "HISTORY   2.5800000E+02 3.9215688E-02 0.0000000E+00 1.0000000E+01               \n",
       "HISTORY                                                                         \n",
       "HISTORY  'HISTOGRAM','I*4',1,258,'7I10'                                         \n",
       "HISTORY        9701      5401      6109      2981      1315       651       821 \n",
       "HISTORY         914      1048      1304      1358      1283      1206      1263 \n",
       "HISTORY        1303      1248      1269      1321      1341      1418      1376 \n",
       "HISTORY        1315      1397      1474      1358      1331      1369      1241 \n",
       "HISTORY        1279      1251      1281      1326      1369      1297      1252 \n",
       "HISTORY        1314      1224      1224      1189      1140      1128      1072 \n",
       "HISTORY        1057      1009       919       900       849       849       817 \n",
       "HISTORY         813       781       759       731       716       728       677 \n",
       "HISTORY         747       715       716       727       662       688       742 \n",
       "HISTORY         756       743       811       914       901       812       788 \n",
       "HISTORY         750       756       775       799       848       925       996 \n",
       "HISTORY         956       947       916       853       884       906       907 \n",
       "HISTORY         839       714       766       825      1040       847       902 \n",
       "HISTORY         830       824       786       733       659       654       604 \n",
       "HISTORY         563       525       536       531       465       474       435 \n",
       "HISTORY         448       452       418       408       380       353       297 \n",
       "HISTORY         250       246       244       215       262       234       237 \n",
       "HISTORY         214       212       224       197       196       189       179 \n",
       "HISTORY         158       167       170       152       150       172       140 \n",
       "HISTORY         101       109       115       107       107        98        99 \n",
       "HISTORY          77       100        77        85        75        72        68 \n",
       "HISTORY          69        69        63        72        62        57        70 \n",
       "HISTORY          58        50        50        37        41        34        62 \n",
       "HISTORY          41        33        35        23        14        22        11 \n",
       "HISTORY          11        15        23         6        16        20        14 \n",
       "HISTORY          13        17         8        16        11        15        13 \n",
       "HISTORY          13         6         9        11        16        12         9 \n",
       "HISTORY          13        14        12        12        11         8        16 \n",
       "HISTORY          10        12        10        17         8        11        17 \n",
       "HISTORY          13        15        12        18        21        12        14 \n",
       "HISTORY          14        10        19        14        13        16        19 \n",
       "HISTORY          17        19        19        22        16        17        13 \n",
       "HISTORY          16        16        13        14        17        15        14 \n",
       "HISTORY          17        10        15        18         9        12        14 \n",
       "HISTORY          18        16         3         6         4         6         6 \n",
       "HISTORY           4         5         4         1         2         0         0 \n",
       "HISTORY           0         0         0         0         0      1271           \n",
       "HISTORY                                                                         \n",
       "HISTORY  'STATISTIC','R*4',1,11,'5E14.7'                                        \n",
       "HISTORY   0.0000000E+00 9.7389946E+00 1.9146351E+00 1.5517544E+00 2.4445402E+01 \n",
       "HISTORY   1.1842363E+02 2.3193506E+05 1.5644556E+00 5.8823533E-02 2.5800000E+02 \n",
       "HISTORY   3.9215688E-02                                                         \n",
       "HISTORY                                                                         \n",
       "HISTORY  'WINDOW_FROM','I*4',1,2,'7I10'                                         \n",
       "HISTORY           1         1                                                   \n",
       "HISTORY                                                                         \n",
       "HISTORY  'WINDOW_TO','I*4',1,2,'7I10'                                           \n",
       "HISTORY        1201       110                                                   \n",
       "HISTORY                                                                         \n",
       "HISTORY  'DISPLAY_DATA','I*4',1,9,'7I10'                                        \n",
       "HISTORY           4        -3       601        56         0        -1        -1 \n",
       "HISTORY          -1        -1                                                   \n",
       "HISTORY                                                                         \n",
       "HISTORY  ESO-DESCRIPTORS END     ................                               \n",
       "                                                                                "
      ]
     },
     "execution_count": 28,
     "metadata": {},
     "output_type": "execute_result"
    }
   ],
   "source": [
    "head"
   ]
  },
  {
   "cell_type": "code",
   "execution_count": 52,
   "id": "060f931b",
   "metadata": {},
   "outputs": [
    {
     "data": {
      "text/plain": [
       "(110, 1201)"
      ]
     },
     "execution_count": 52,
     "metadata": {},
     "output_type": "execute_result"
    }
   ],
   "source": [
    "data.shape"
   ]
  },
  {
   "cell_type": "code",
   "execution_count": 53,
   "id": "054147e8",
   "metadata": {},
   "outputs": [],
   "source": [
    "n, start, step = head['NAXIS1'], head['CRVAL1'], head['CDELT1']\n",
    "lmb = np.arange(start, start + n * step, step)"
   ]
  },
  {
   "cell_type": "code",
   "execution_count": 54,
   "id": "59344615",
   "metadata": {},
   "outputs": [
    {
     "data": {
      "text/plain": [
       "(1201,)"
      ]
     },
     "execution_count": 54,
     "metadata": {},
     "output_type": "execute_result"
    }
   ],
   "source": [
    "lmb.shape"
   ]
  },
  {
   "cell_type": "code",
   "execution_count": 65,
   "id": "0ddcdcd4",
   "metadata": {},
   "outputs": [
    {
     "data": {
      "text/plain": [
       "[<matplotlib.lines.Line2D at 0x7efdea53cf70>]"
      ]
     },
     "execution_count": 65,
     "metadata": {},
     "output_type": "execute_result"
    },
    {
     "data": {
      "image/png": "[encoded data removed]",
      "text/plain": [
       "<Figure size 432x288 with 1 Axes>"
      ]
     },
     "metadata": {
      "needs_background": "light"
     },
     "output_type": "display_data"
    }
   ],
   "source": [
    "plt.plot(lmb,data[22])"
   ]
  },
  {
   "cell_type": "code",
   "execution_count": 46,
   "id": "4c3c9f51",
   "metadata": {},
   "outputs": [
    {
     "data": {
      "text/plain": [
       "array([-0.3374244 , -0.33699828, -0.33657408, ..., -0.18217298,\n",
       "       -0.18213367, -0.1820944 ], dtype=float32)"
      ]
     },
     "execution_count": 46,
     "metadata": {},
     "output_type": "execute_result"
    }
   ],
   "source": [
    "data[23]"
   ]
  },
  {
   "cell_type": "code",
   "execution_count": null,
   "id": "8125886c",
   "metadata": {},
   "outputs": [],
   "source": []
  }
 ],
 "metadata": {
  "kernelspec": {
   "display_name": "Python 3 (ipykernel)",
   "language": "python",
   "name": "python3"
  },
  "language_info": {
   "codemirror_mode": {
    "name": "ipython",
    "version": 3
   },
   "file_extension": ".py",
   "mimetype": "text/x-python",
   "name": "python",
   "nbconvert_exporter": "python",
   "pygments_lexer": "ipython3",
   "version": "3.9.5"
  }
 },
 "nbformat": 4,
 "nbformat_minor": 5
}
